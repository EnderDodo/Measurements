{
  "metadata": {
    "language_info": {
      "codemirror_mode": {
        "name": "python",
        "version": 3
      },
      "file_extension": ".py",
      "mimetype": "text/x-python",
      "name": "python",
      "nbconvert_exporter": "python",
      "pygments_lexer": "ipython3",
      "version": "3.8"
    },
    "kernelspec": {
      "name": "python",
      "display_name": "Python (Pyodide)",
      "language": "python"
    }
  },
  "nbformat_minor": 4,
  "nbformat": 4,
  "cells": [
    {
      "cell_type": "markdown",
      "source": "# Тестовый стенд",
      "metadata": {}
    },
    {
      "cell_type": "raw",
      "source": "Замеры проводились на ноутбуке Acer Nitro AN515-55 со следующими характеристиками:\n    ОС - Windows 11 Professional x64 (10.0, сборка 22621)\n    ЦП - Intel Core i5-10300H, 2500 МГц, 8 ядер\n    ОЗУ - 8 ГБ",
      "metadata": {}
    },
    {
      "cell_type": "raw",
      "source": "Были закрыты все сторонние приложения, зафиксирована частота процессора и очищен кэш, ноутбук подключен к сети. Приложение было запущено в режиме релиза, в результате получено 40 значений в миллисекундах.",
      "metadata": {}
    },
    {
      "cell_type": "markdown",
      "source": "# Данные",
      "metadata": {}
    },
    {
      "cell_type": "code",
      "source": "from scipy import stats\nimport numpy as np\nimport matplotlib.pyplot as plt",
      "metadata": {
        "trusted": true
      },
      "execution_count": 1,
      "outputs": []
    },
    {
      "cell_type": "code",
      "source": "with open(\"timestamps1.txt\") as file:\n    t = [int(x) for x in file]\nprint(t)",
      "metadata": {
        "trusted": true
      },
      "execution_count": 2,
      "outputs": [
        {
          "name": "stdout",
          "text": "[3387, 3406, 3404, 3405, 3403, 3399, 3408, 3394, 3393, 3397, 3384, 3404, 3397, 3394, 3388, 3384, 3405, 3393, 3395, 3391, 3398, 3408, 3412, 3391, 3390, 3386, 3385, 3409, 3412, 3376, 3383, 3398, 3382, 3396, 3390, 3377, 3385, 3388, 3379]\n",
          "output_type": "stream"
        }
      ]
    },
    {
      "cell_type": "code",
      "source": "plt.hist(t)",
      "metadata": {
        "trusted": true
      },
      "execution_count": 3,
      "outputs": [
        {
          "execution_count": 3,
          "output_type": "execute_result",
          "data": {
            "text/plain": "(array([3., 2., 5., 5., 4., 6., 3., 3., 5., 3.]),\n array([3376. , 3379.6, 3383.2, 3386.8, 3390.4, 3394. , 3397.6, 3401.2,\n        3404.8, 3408.4, 3412. ]),\n <BarContainer object of 10 artists>)"
          },
          "metadata": {}
        },
        {
          "output_type": "display_data",
          "data": {
            "text/plain": "<Figure size 640x480 with 1 Axes>",
            "image/png": "[encoded data removed]"
          },
          "metadata": {}
        }
      ]
    },
    {
      "cell_type": "markdown",
      "source": "# Тесты на нормальность",
      "metadata": {}
    },
    {
      "cell_type": "code",
      "source": "normaltest = stats.normaltest(t)\nshapirotest = stats.shapiro(t)\nprint(f'p-value теста на нормальное распределение: {normaltest.pvalue}')\nprint(f'p-value теста Шапиро-Уилка: {shapirotest.pvalue}')\nif normaltest.pvalue > 0.05 or shapirotest.pvalue > 0.05:\n    print(\"Тест на нормальность пройден (p-value > 0.05 хотя бы на одном тесте)\")\nelse: \n    print(\"Тест на нормальность не пройден (p-value < 0.05)\")",
      "metadata": {
        "trusted": true
      },
      "execution_count": 4,
      "outputs": [
        {
          "name": "stdout",
          "text": "p-value теста на нормальное распределение: 0.23512427772851754\np-value теста Шапиро-Уилка: 0.39404624700546265\nТест на нормальность пройден (p-value > 0.05 хотя бы на одном тесте)\n",
          "output_type": "stream"
        }
      ]
    },
    {
      "cell_type": "markdown",
      "source": "# Среднее и стандартное отклонение",
      "metadata": {}
    },
    {
      "cell_type": "code",
      "source": "mean = np.mean(t)\nprint(f'Среднее - {mean}')",
      "metadata": {
        "trusted": true
      },
      "execution_count": 5,
      "outputs": [
        {
          "name": "stdout",
          "text": "Среднее - 3394.25641025641\n",
          "output_type": "stream"
        }
      ]
    },
    {
      "cell_type": "code",
      "source": "std = np.std(t, ddof=1)\nprint(f'Стандартное отклонение - {std}')",
      "metadata": {
        "trusted": true
      },
      "execution_count": 6,
      "outputs": [
        {
          "name": "stdout",
          "text": "Стандартное отклонение - 9.88278127462089\n",
          "output_type": "stream"
        }
      ]
    },
    {
      "cell_type": "code",
      "source": "print(f'Стандартное отклонение составляет {std/mean * 100} процентов от среднего')",
      "metadata": {
        "trusted": true
      },
      "execution_count": 7,
      "outputs": [
        {
          "name": "stdout",
          "text": "Стандартное отклонение составляет 0.29116189468651016 процентов от среднего\n",
          "output_type": "stream"
        }
      ]
    },
    {
      "cell_type": "markdown",
      "source": "# Доверительный интервал",
      "metadata": {}
    },
    {
      "cell_type": "code",
      "source": "conf = stats.t.ppf(0.975, df=len(t)-1)*stats.sem(t)\nprint(f'Неокругленный разброс: {conf}')",
      "metadata": {
        "trusted": true
      },
      "execution_count": 8,
      "outputs": [
        {
          "name": "stdout",
          "text": "Неокругленный разброс: 3.203627086389121\n",
          "output_type": "stream"
        }
      ]
    },
    {
      "cell_type": "code",
      "source": "roundedConf = round(conf)\nprint(f'Округленный разброс доверительного интервала: {roundedConf}')\nroundedMeanConf = round(mean)\nprint(f'Округленное среднее: {roundedMeanConf}')\nprint(f'95% Доверительный интервал: {roundedMeanConf} ± {roundedConf}')",
      "metadata": {
        "trusted": true
      },
      "execution_count": 9,
      "outputs": [
        {
          "name": "stdout",
          "text": "Округленный разброс доверительного интервала: 3\nОкругленное среднее: 3394\n95% Доверительный интервал: 3394 ± 3\n",
          "output_type": "stream"
        }
      ]
    },
    {
      "cell_type": "markdown",
      "source": "# Предсказывающий интервал",
      "metadata": {}
    },
    {
      "cell_type": "code",
      "source": "pred = std * 2\nprint(f'Неокругленный разброс: {pred}')",
      "metadata": {
        "trusted": true
      },
      "execution_count": 10,
      "outputs": [
        {
          "name": "stdout",
          "text": "Неокругленный разброс: 19.76556254924178\n",
          "output_type": "stream"
        }
      ]
    },
    {
      "cell_type": "code",
      "source": "roundedPred = round(pred)\nprint(f'Округленный разброс доверительного интервала: {roundedPred}')\nroundedMeanPred = round(mean)\nprint(f'Округленное среднее: {roundedMeanPred}')\nprint(f'95% Доверительный интервал: {roundedMeanPred} ± {roundedPred}')",
      "metadata": {
        "trusted": true
      },
      "execution_count": 11,
      "outputs": [
        {
          "name": "stdout",
          "text": "Округленный разброс доверительного интервала: 20\nОкругленное среднее: 3394\n95% Доверительный интервал: 3394 ± 20\n",
          "output_type": "stream"
        }
      ]
    },
    {
      "cell_type": "code",
      "source": "",
      "metadata": {},
      "execution_count": null,
      "outputs": []
    }
  ]
}